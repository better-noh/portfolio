{
  "cells": [
    {
      "cell_type": "markdown",
      "metadata": {
        "id": "3DL_YtdoJT9c"
      },
      "source": [
        "# Try1. Google Colab에서 Streamlit 구현 - pyngrok 활용\n",
        "- [How to run streamlit from Colab (streamlit colab에서 작동시키기)](https://developer-ping9.tistory.com/115)"
      ]
    },
    {
      "cell_type": "code",
      "execution_count": null,
      "metadata": {
        "colab": {
          "base_uri": "https://localhost:8080/"
        },
        "id": "7Nk-YYZivSMc",
        "outputId": "77dcac23-c17a-4efc-b2d6-5b1d6c89106d"
      },
      "outputs": [
        {
          "name": "stdout",
          "output_type": "stream",
          "text": [
            "Python 3.8.16\n"
          ]
        }
      ],
      "source": [
        "!python --version"
      ]
    },
    {
      "cell_type": "markdown",
      "metadata": {
        "id": "JZg7hNUEL0gk"
      },
      "source": [
        "### 1. Colab 에 streamlit 패키지 설치"
      ]
    },
    {
      "cell_type": "code",
      "execution_count": null,
      "metadata": {
        "colab": {
          "base_uri": "https://localhost:8080/"
        },
        "id": "pmeC5EvsJQI9",
        "outputId": "c9952a10-8f52-42be-a152-f856a442042e"
      },
      "outputs": [
        {
          "name": "stdout",
          "output_type": "stream",
          "text": [
            "Looking in indexes: https://pypi.org/simple, https://us-python.pkg.dev/colab-wheels/public/simple/\n",
            "Collecting streamlit\n",
            "  Downloading streamlit-1.16.0-py2.py3-none-any.whl (9.2 MB)\n",
            "\u001b[K     |████████████████████████████████| 9.2 MB 4.8 MB/s \n",
            "\u001b[?25hRequirement already satisfied: tornado>=5.0 in /usr/local/lib/python3.8/dist-packages (from streamlit) (6.0.4)\n",
            "Collecting gitpython!=3.1.19\n",
            "  Downloading GitPython-3.1.30-py3-none-any.whl (184 kB)\n",
            "\u001b[K     |████████████████████████████████| 184 kB 79.3 MB/s \n",
            "\u001b[?25hCollecting validators>=0.2\n",
            "  Downloading validators-0.20.0.tar.gz (30 kB)\n",
            "Collecting blinker>=1.0.0\n",
            "  Downloading blinker-1.5-py2.py3-none-any.whl (12 kB)\n",
            "Collecting semver\n",
            "  Downloading semver-2.13.0-py2.py3-none-any.whl (12 kB)\n",
            "Requirement already satisfied: pyarrow>=4.0 in /usr/local/lib/python3.8/dist-packages (from streamlit) (9.0.0)\n",
            "Requirement already satisfied: importlib-metadata>=1.4 in /usr/local/lib/python3.8/dist-packages (from streamlit) (5.1.0)\n",
            "Collecting pympler>=0.9\n",
            "  Downloading Pympler-1.0.1-py3-none-any.whl (164 kB)\n",
            "\u001b[K     |████████████████████████████████| 164 kB 51.5 MB/s \n",
            "\u001b[?25hRequirement already satisfied: click>=7.0 in /usr/local/lib/python3.8/dist-packages (from streamlit) (7.1.2)\n",
            "Requirement already satisfied: python-dateutil in /usr/local/lib/python3.8/dist-packages (from streamlit) (2.8.2)\n",
            "Requirement already satisfied: packaging>=14.1 in /usr/local/lib/python3.8/dist-packages (from streamlit) (21.3)\n",
            "Collecting watchdog\n",
            "  Downloading watchdog-2.2.0-py3-none-manylinux2014_x86_64.whl (78 kB)\n",
            "\u001b[K     |████████████████████████████████| 78 kB 4.9 MB/s \n",
            "\u001b[?25hRequirement already satisfied: numpy in /usr/local/lib/python3.8/dist-packages (from streamlit) (1.21.6)\n",
            "Requirement already satisfied: typing-extensions>=3.10.0.0 in /usr/local/lib/python3.8/dist-packages (from streamlit) (4.4.0)\n",
            "Collecting rich>=10.11.0\n",
            "  Downloading rich-13.0.0-py3-none-any.whl (238 kB)\n",
            "\u001b[K     |████████████████████████████████| 238 kB 81.0 MB/s \n",
            "\u001b[?25hRequirement already satisfied: tzlocal>=1.1 in /usr/local/lib/python3.8/dist-packages (from streamlit) (1.5.1)\n",
            "Collecting pydeck>=0.1.dev5\n",
            "  Downloading pydeck-0.8.0-py2.py3-none-any.whl (4.7 MB)\n",
            "\u001b[K     |████████████████████████████████| 4.7 MB 73.2 MB/s \n",
            "\u001b[?25hRequirement already satisfied: protobuf<4,>=3.12 in /usr/local/lib/python3.8/dist-packages (from streamlit) (3.19.6)\n",
            "Requirement already satisfied: requests>=2.4 in /usr/local/lib/python3.8/dist-packages (from streamlit) (2.23.0)\n",
            "Requirement already satisfied: cachetools>=4.0 in /usr/local/lib/python3.8/dist-packages (from streamlit) (5.2.0)\n",
            "Requirement already satisfied: altair>=3.2.0 in /usr/local/lib/python3.8/dist-packages (from streamlit) (4.2.0)\n",
            "Requirement already satisfied: pandas>=0.21.0 in /usr/local/lib/python3.8/dist-packages (from streamlit) (1.3.5)\n",
            "Requirement already satisfied: toml in /usr/local/lib/python3.8/dist-packages (from streamlit) (0.10.2)\n",
            "Requirement already satisfied: pillow>=6.2.0 in /usr/local/lib/python3.8/dist-packages (from streamlit) (7.1.2)\n",
            "Requirement already satisfied: jsonschema>=3.0 in /usr/local/lib/python3.8/dist-packages (from altair>=3.2.0->streamlit) (4.3.3)\n",
            "Requirement already satisfied: entrypoints in /usr/local/lib/python3.8/dist-packages (from altair>=3.2.0->streamlit) (0.4)\n",
            "Requirement already satisfied: jinja2 in /usr/local/lib/python3.8/dist-packages (from altair>=3.2.0->streamlit) (2.11.3)\n",
            "Requirement already satisfied: toolz in /usr/local/lib/python3.8/dist-packages (from altair>=3.2.0->streamlit) (0.12.0)\n",
            "Collecting gitdb<5,>=4.0.1\n",
            "  Downloading gitdb-4.0.10-py3-none-any.whl (62 kB)\n",
            "\u001b[K     |████████████████████████████████| 62 kB 1.5 MB/s \n",
            "\u001b[?25hCollecting smmap<6,>=3.0.1\n",
            "  Downloading smmap-5.0.0-py3-none-any.whl (24 kB)\n",
            "Requirement already satisfied: zipp>=0.5 in /usr/local/lib/python3.8/dist-packages (from importlib-metadata>=1.4->streamlit) (3.11.0)\n",
            "Requirement already satisfied: importlib-resources>=1.4.0 in /usr/local/lib/python3.8/dist-packages (from jsonschema>=3.0->altair>=3.2.0->streamlit) (5.10.1)\n",
            "Requirement already satisfied: attrs>=17.4.0 in /usr/local/lib/python3.8/dist-packages (from jsonschema>=3.0->altair>=3.2.0->streamlit) (22.1.0)\n",
            "Requirement already satisfied: pyrsistent!=0.17.0,!=0.17.1,!=0.17.2,>=0.14.0 in /usr/local/lib/python3.8/dist-packages (from jsonschema>=3.0->altair>=3.2.0->streamlit) (0.19.2)\n",
            "Requirement already satisfied: pyparsing!=3.0.5,>=2.0.2 in /usr/local/lib/python3.8/dist-packages (from packaging>=14.1->streamlit) (3.0.9)\n",
            "Requirement already satisfied: pytz>=2017.3 in /usr/local/lib/python3.8/dist-packages (from pandas>=0.21.0->streamlit) (2022.6)\n",
            "Requirement already satisfied: MarkupSafe>=0.23 in /usr/local/lib/python3.8/dist-packages (from jinja2->altair>=3.2.0->streamlit) (2.0.1)\n",
            "Requirement already satisfied: six>=1.5 in /usr/local/lib/python3.8/dist-packages (from python-dateutil->streamlit) (1.15.0)\n",
            "Requirement already satisfied: chardet<4,>=3.0.2 in /usr/local/lib/python3.8/dist-packages (from requests>=2.4->streamlit) (3.0.4)\n",
            "Requirement already satisfied: idna<3,>=2.5 in /usr/local/lib/python3.8/dist-packages (from requests>=2.4->streamlit) (2.10)\n",
            "Requirement already satisfied: urllib3!=1.25.0,!=1.25.1,<1.26,>=1.21.1 in /usr/local/lib/python3.8/dist-packages (from requests>=2.4->streamlit) (1.24.3)\n",
            "Requirement already satisfied: certifi>=2017.4.17 in /usr/local/lib/python3.8/dist-packages (from requests>=2.4->streamlit) (2022.12.7)\n",
            "Collecting commonmark<0.10.0,>=0.9.0\n",
            "  Downloading commonmark-0.9.1-py2.py3-none-any.whl (51 kB)\n",
            "\u001b[K     |████████████████████████████████| 51 kB 7.5 MB/s \n",
            "\u001b[?25hRequirement already satisfied: pygments<3.0.0,>=2.6.0 in /usr/local/lib/python3.8/dist-packages (from rich>=10.11.0->streamlit) (2.6.1)\n",
            "Requirement already satisfied: decorator>=3.4.0 in /usr/local/lib/python3.8/dist-packages (from validators>=0.2->streamlit) (4.4.2)\n",
            "Building wheels for collected packages: validators\n",
            "  Building wheel for validators (setup.py) ... \u001b[?25l\u001b[?25hdone\n",
            "  Created wheel for validators: filename=validators-0.20.0-py3-none-any.whl size=19581 sha256=4ff7fa637cd737b6090ae8791773e9141b1ec9daa1247936328b296f53d49994\n",
            "  Stored in directory: /root/.cache/pip/wheels/19/09/72/3eb74d236bb48bd0f3c6c3c83e4e0c5bbfcbcad7c6c3539db8\n",
            "Successfully built validators\n",
            "Installing collected packages: smmap, gitdb, commonmark, watchdog, validators, semver, rich, pympler, pydeck, gitpython, blinker, streamlit\n",
            "Successfully installed blinker-1.5 commonmark-0.9.1 gitdb-4.0.10 gitpython-3.1.30 pydeck-0.8.0 pympler-1.0.1 rich-13.0.0 semver-2.13.0 smmap-5.0.0 streamlit-1.16.0 validators-0.20.0 watchdog-2.2.0\n"
          ]
        }
      ],
      "source": [
        "!pip install streamlit"
      ]
    },
    {
      "cell_type": "markdown",
      "metadata": {
        "id": "J0_PF1gxL8OK"
      },
      "source": [
        "### 2. Colab 에 pyngrok 패키지 설치"
      ]
    },
    {
      "cell_type": "code",
      "execution_count": null,
      "metadata": {
        "colab": {
          "base_uri": "https://localhost:8080/"
        },
        "id": "uyHSiNAtPtim",
        "outputId": "66f37929-a98b-4603-b36e-9633dea637b5"
      },
      "outputs": [
        {
          "name": "stdout",
          "output_type": "stream",
          "text": [
            "Looking in indexes: https://pypi.org/simple, https://us-python.pkg.dev/colab-wheels/public/simple/\n",
            "Collecting pyngrok\n",
            "  Downloading pyngrok-5.2.1.tar.gz (761 kB)\n",
            "\u001b[K     |████████████████████████████████| 761 kB 7.4 MB/s \n",
            "\u001b[?25hRequirement already satisfied: PyYAML in /usr/local/lib/python3.8/dist-packages (from pyngrok) (6.0)\n",
            "Building wheels for collected packages: pyngrok\n",
            "  Building wheel for pyngrok (setup.py) ... \u001b[?25l\u001b[?25hdone\n",
            "  Created wheel for pyngrok: filename=pyngrok-5.2.1-py3-none-any.whl size=19792 sha256=137dbb0a92d9b844d7ce91274b85e8c704135871be113350c51b961383e2bbba\n",
            "  Stored in directory: /root/.cache/pip/wheels/5d/f2/70/526da675d32f17577ec47ac4c663084efe39d47c826b6c3bb1\n",
            "Successfully built pyngrok\n",
            "Installing collected packages: pyngrok\n",
            "Successfully installed pyngrok-5.2.1\n"
          ]
        }
      ],
      "source": [
        "!pip install pyngrok"
      ]
    },
    {
      "cell_type": "markdown",
      "metadata": {
        "id": "_CPTk5LxP3Lk"
      },
      "source": [
        "### 3. 클라우드 리눅스 커널에 app.py 파일 만들기"
      ]
    },
    {
      "cell_type": "code",
      "execution_count": null,
      "metadata": {
        "colab": {
          "base_uri": "https://localhost:8080/"
        },
        "id": "6YcmdL7OPzVU",
        "outputId": "0732b099-6319-4a5b-bd52-26eedd3277c2"
      },
      "outputs": [
        {
          "name": "stdout",
          "output_type": "stream",
          "text": [
            "Writing app.py\n"
          ]
        }
      ],
      "source": [
        "%%writefile app.py\n",
        "\n",
        "import streamlit as st\n",
        "import numpy as np\n",
        "import pandas as pd\n",
        "from sklearn import datasets\n",
        "from sklearn.ensemble import RandomForestClassifier\n",
        "\n",
        "# PAGE_CONFIG = {\"page_title\":\"StColab.io\",\"page_icon\":\":smiley:\",\"layout\":\"centered\"}\n",
        "# st.beta_set_page_config(**PAGE_CONFIG)\n",
        "\n",
        "def user_input_features() :\n",
        "    sepal_length = st.sidebar.slider('sepal_length',4.3, 7.9, 5.4)\n",
        "    sepal_width = st.sidebar.slider('sepal_width',2.0, 4.4, 3.4)\n",
        "    petal_length = st.sidebar.slider('petal_length',1.0, 6.9, 1.3)\n",
        "    petal_width = st.sidebar.slider('petal_width',0.1, 2.5, 0.2)\n",
        "    data = {'sepal_length' : sepal_length,\n",
        "            'sepal_width' : sepal_width,\n",
        "            'petal_length' : petal_length,\n",
        "            'petal_width' : petal_width\n",
        "            }\n",
        "    features = pd.DataFrame(data, index=[0])\n",
        "    return features\n",
        "\n",
        "def main():\n",
        "\n",
        "\t#st.title(\"Awesome Streamlit for MLDDD\")\n",
        "\t#st.subheader(\"How to run streamlit from colab\")\n",
        "    st.write(\"\"\"\n",
        "        # Simple Iris Flower Prediction WebApp\n",
        "\n",
        "        This app predicts the **Iris flower** type!\n",
        "\n",
        "        \"\"\")\n",
        "\n",
        "    st.sidebar.header('User Input Parameters')\n",
        "\n",
        "    df= user_input_features()\n",
        "\n",
        "    st.subheader(\"파라미터를 설정해주세요.\")\n",
        "    st.write(df)\n",
        "\n",
        "    iris = datasets.load_iris()\n",
        "    x=iris.data\n",
        "    y=iris.target\n",
        "\n",
        "    clf = RandomForestClassifier()\n",
        "    clf.fit(x,y)\n",
        "\n",
        "    predict_ = clf.predict(df)\n",
        "    predict_proba = clf.predict_proba(df)\n",
        "\n",
        "    st.subheader(\"Iris 종류 \")\n",
        "    st.write(iris.target_names)\n",
        "\n",
        "    st.subheader(\"예측된 꽃종류\")\n",
        "    st.write(iris.target_names[predict_])\n",
        "\n",
        "    st.subheader(\"예측된 꽃종류2\")\n",
        "    st.write(predict_)\n",
        "\n",
        "    st.subheader(\"예측된 꽃종류3\")\n",
        "    st.write(iris.target_names)\n",
        "\n",
        "\n",
        "    st.subheader(\"꽃종류별 예측 확률\")\n",
        "    st.write(predict_proba)\n",
        "\n",
        "\n",
        "if __name__ == '__main__':\n",
        "\tmain()"
      ]
    },
    {
      "cell_type": "markdown",
      "metadata": {
        "id": "bvg_wkseQHnQ"
      },
      "source": [
        "### 4. 클라우드환경에 app.py가 생성되었는지 확인"
      ]
    },
    {
      "cell_type": "code",
      "execution_count": null,
      "metadata": {
        "colab": {
          "base_uri": "https://localhost:8080/"
        },
        "id": "x4-H-y6oQIvX",
        "outputId": "e597e6f3-c0a3-4211-f64f-665188342e7e"
      },
      "outputs": [
        {
          "name": "stdout",
          "output_type": "stream",
          "text": [
            "app.py\tsample_data\n"
          ]
        }
      ],
      "source": [
        "!ls"
      ]
    },
    {
      "cell_type": "markdown",
      "metadata": {
        "id": "J0nvRLiDQL5d"
      },
      "source": [
        "### 5. ngrok 토큰 설정\n",
        "- ngrok은 로컬에서 작업 중인 것을 안전한 터널을 통해 외부에 공유하려고 할 때 쓰면 유용한 도구입니다.\n",
        "- ngrok authtoken 받는 법\n",
        "1. dashboard.ngrok.com/ 에 접속 후 회원가입 및 로그인 => Google 계정\n",
        "\n",
        "2. 로그인하면 dashboard.ngrok.com/get-started/setup 에 자동 접속됨\n",
        "\n",
        "3. 아래의 빨간색 스프레이영역이 토큰번호이니, 복사붙여넣기 하시면 됨\n",
        "\n",
        "```\n",
        "!ngrok authtoken 개인토큰번호입력\n",
        "```\n"
      ]
    },
    {
      "cell_type": "code",
      "execution_count": null,
      "metadata": {
        "colab": {
          "base_uri": "https://localhost:8080/"
        },
        "id": "BY5sZH8ZQJcb",
        "outputId": "3929e507-d175-497d-b9df-ea3bbc9357ca"
      },
      "outputs": [
        {
          "name": "stdout",
          "output_type": "stream",
          "text": [
            "Authtoken saved to configuration file: /root/.ngrok2/ngrok.yml\n"
          ]
        }
      ],
      "source": [
        "!ngrok authtoken 2JhrVXs0wKBRMEkCsKiydfLbyb8_4Lk9jNYuponMocxQ8FvXe"
      ]
    },
    {
      "cell_type": "markdown",
      "metadata": {
        "id": "UnVYMBY9Jg3r"
      },
      "source": [
        "### 6. streamlit 백그라운드로 실행 & ngrok과 streamlit 연결"
      ]
    },
    {
      "cell_type": "code",
      "execution_count": null,
      "metadata": {
        "id": "0MOQpEphJoJd"
      },
      "outputs": [],
      "source": [
        "from pyngrok import ngrok"
      ]
    },
    {
      "cell_type": "code",
      "execution_count": null,
      "metadata": {
        "id": "MAPZlwdrJq-A"
      },
      "outputs": [],
      "source": [
        "#!nohup streamlit run app.py\n",
        "!streamlit run app.py &>/dev/null&"
      ]
    },
    {
      "cell_type": "code",
      "execution_count": null,
      "metadata": {
        "id": "ZknHU3O2JzJc"
      },
      "outputs": [],
      "source": [
        "publ_url = ngrok.connect(addr = '8501')"
      ]
    },
    {
      "cell_type": "markdown",
      "metadata": {
        "id": "tFlYqgFQPq0x"
      },
      "source": [
        "- 아래에서 `http://localhost:8501` 를 클릭하면, streamlit 사이트로 이동!\n",
        "> - 근데 이전에 만든 streamlit 화면으로 이동하므로.. 뭔가 이상함!"
      ]
    },
    {
      "cell_type": "code",
      "execution_count": null,
      "metadata": {
        "colab": {
          "base_uri": "https://localhost:8080/"
        },
        "id": "r4mD4JPiJ2zc",
        "outputId": "697ca07c-1e3b-4b99-bd80-5a1e17dddc31"
      },
      "outputs": [
        {
          "data": {
            "text/plain": [
              "<NgrokTunnel: \"http://256f-34-136-48-193.ngrok.io\" -> \"http://localhost:8501\">"
            ]
          },
          "execution_count": 17,
          "metadata": {},
          "output_type": "execute_result"
        }
      ],
      "source": [
        "publ_url # http://736d-34-136-48-193.ngrok.io 가 주소"
      ]
    },
    {
      "cell_type": "markdown",
      "metadata": {
        "id": "SWLs1x8zJ7ya"
      },
      "source": [
        "### 7. 백그라운드로 무한정 서비스할거 아니라면, 꼭 streamlit 프로세스 와 ngrok 프로세스 kill 하기!\n",
        "- (  `<defunt>` 라 뜨면 프로세스가 종료된 것  )\n",
        "- 계속 백그라운드로 실행시키면,\n",
        "> Colab 이 어차피 `세션 만료` 하겠지만, 과금이 될 수 있으니 주의하자!"
      ]
    },
    {
      "cell_type": "code",
      "execution_count": null,
      "metadata": {
        "colab": {
          "base_uri": "https://localhost:8080/"
        },
        "id": "6gkKUXxiKE1S",
        "outputId": "55bc7092-d8dd-4952-f2ca-456b71593ced"
      },
      "outputs": [
        {
          "name": "stdout",
          "output_type": "stream",
          "text": [
            "    PID TTY          TIME CMD\n",
            "      1 ?        00:00:00 docker-init\n",
            "      7 ?        00:00:04 node\n",
            "     19 ?        00:00:00 tail\n",
            "     32 ?        00:00:01 oom_monitor.sh\n",
            "     34 ?        00:00:00 run.sh\n",
            "     36 ?        00:00:00 kernel_manager_\n",
            "     63 ?        00:00:05 python3 <defunct>\n",
            "     64 ?        00:00:00 colab-fileshim.\n",
            "     82 ?        00:00:03 jupyter-noteboo\n",
            "     83 ?        00:00:01 dap_multiplexer\n",
            "    755 ?        00:00:10 python3\n",
            "    786 ?        00:00:03 python3\n",
            "    985 ?        00:02:04 node\n",
            "   7877 ?        00:00:00 ngrok\n",
            "   7981 ?        00:00:00 sleep\n",
            "   7982 ?        00:00:00 ps\n"
          ]
        }
      ],
      "source": [
        "!ps"
      ]
    },
    {
      "cell_type": "code",
      "execution_count": null,
      "metadata": {
        "colab": {
          "base_uri": "https://localhost:8080/"
        },
        "id": "0iw9SPbtKGoW",
        "outputId": "12a687eb-a45b-4caf-dd5f-e1a1b63c91f4"
      },
      "outputs": [
        {
          "name": "stdout",
          "output_type": "stream",
          "text": [
            "/bin/bash: line 0: kill: (163) - No such process\n"
          ]
        }
      ],
      "source": [
        "!kill 163"
      ]
    },
    {
      "cell_type": "code",
      "execution_count": null,
      "metadata": {
        "id": "q6gDwamPKJAQ"
      },
      "outputs": [],
      "source": [
        "ngrok.kill()"
      ]
    },
    {
      "cell_type": "markdown",
      "metadata": {
        "id": "6nuOitsUV3-c"
      },
      "source": [
        "## 그 외 참고 자료\n",
        "1. 유튜브: [How to Run Streamlit on Colab with Pyngrok (Free Working 2022) | Run Flask on Colab](https://www.youtube.com/watch?v=MUD-pBOnvdo)\n",
        "> - 관련 깃허브: https://github.com/amrrs/streamlit-colab-pyngrok/blob/main/Streamlit_%2B_Colab_wit_pyngrok.ipynb\n",
        "\n",
        "2. [How to create and launch a Streamlit app directly from Google Colab\n",
        "](https://faun.pub/how-to-launch-a-streamlit-app-directly-from-google-colab-8014165e0267)"
      ]
    }
  ],
  "metadata": {
    "colab": {
      "provenance": []
    },
    "kernelspec": {
      "display_name": "Python 3",
      "name": "python3"
    },
    "language_info": {
      "name": "python"
    }
  },
  "nbformat": 4,
  "nbformat_minor": 0
}
