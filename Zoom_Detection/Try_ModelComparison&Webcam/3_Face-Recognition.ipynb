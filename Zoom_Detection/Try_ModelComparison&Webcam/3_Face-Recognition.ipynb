{
 "cells": [
  {
   "cell_type": "code",
   "execution_count": 1,
   "metadata": {
    "ExecuteTime": {
     "end_time": "2023-04-18T11:14:10.932851Z",
     "start_time": "2023-04-18T11:14:10.912405Z"
    }
   },
   "outputs": [
    {
     "data": {
      "text/plain": [
       "['img\\\\all.mp4',\n",
       " 'img\\\\baby_moon.jpg',\n",
       " 'img\\\\baby_moon_detect.png',\n",
       " 'img\\\\byeong.png',\n",
       " 'img\\\\byeong2.png']"
      ]
     },
     "execution_count": 1,
     "metadata": {},
     "output_type": "execute_result"
    }
   ],
   "source": [
    "import glob\n",
    "paths = glob.glob(\"img/*\")\n",
    "paths[:5]"
   ]
  },
  {
   "cell_type": "code",
   "execution_count": 2,
   "metadata": {
    "ExecuteTime": {
     "end_time": "2023-04-18T11:14:12.847153Z",
     "start_time": "2023-04-18T11:14:12.291155Z"
    }
   },
   "outputs": [
    {
     "data": {
      "text/plain": [
       "(825, 958, 4)"
      ]
     },
     "execution_count": 2,
     "metadata": {},
     "output_type": "execute_result"
    }
   ],
   "source": [
    "from PIL import Image\n",
    "import matplotlib.pyplot as plt\n",
    "img = plt.imread(paths[-3])\n",
    "img.shape"
   ]
  },
  {
   "cell_type": "markdown",
   "metadata": {},
   "source": [
    "<img src=\"나은_코드/img/Face-Recognition_탐지.png\" width= 600 height= 600></img>"
   ]
  },
  {
   "cell_type": "markdown",
   "metadata": {},
   "source": [
    "## 팀원들의 얼굴 탐지"
   ]
  },
  {
   "cell_type": "code",
   "execution_count": 3,
   "metadata": {
    "ExecuteTime": {
     "end_time": "2023-01-01T14:59:40.977451Z",
     "start_time": "2023-01-01T14:59:33.695922Z"
    }
   },
   "outputs": [
    {
     "name": "stdout",
     "output_type": "stream",
     "text": [
      "(284, 495, 3)\n",
      "(1440, 1080, 3)\n",
      "(2512, 1393, 3)\n",
      "(262, 561, 3)\n",
      "(201, 358, 3)\n"
     ]
    },
    {
     "name": "stderr",
     "output_type": "stream",
     "text": [
      "C:\\Users\\Naeun Noh\\AppData\\Local\\Temp\\ipykernel_4072\\1639867137.py:82: DeprecationWarning: textsize is deprecated and will be removed in Pillow 10 (2023-07-01). Use textbbox or textlength instead.\n",
      "  text_width, text_height = draw.textsize(name)\n",
      "C:\\Users\\Naeun Noh\\AppData\\Local\\Temp\\ipykernel_4072\\1639867137.py:82: DeprecationWarning: textsize is deprecated and will be removed in Pillow 10 (2023-07-01). Use textbbox or textlength instead.\n",
      "  text_width, text_height = draw.textsize(name)\n"
     ]
    }
   ],
   "source": [
    "import face_recognition\n",
    "from PIL import Image, ImageDraw\n",
    "import numpy as np\n",
    "\n",
    "\n",
    "moon_image = face_recognition.load_image_file(\"img/moon.png\")\n",
    "print(moon_image.shape) # 생략 가능.\n",
    "moon_face_encoding = face_recognition.face_encodings(moon_image)[0]\n",
    "\n",
    "\n",
    "noh_image = face_recognition.load_image_file(\"img/noh.jpg\")\n",
    "print(noh_image.shape)\n",
    "noh_face_encoding = face_recognition.face_encodings(noh_image)[0]\n",
    "\n",
    "min_image = face_recognition.load_image_file(\"img/hye3.jpg\")\n",
    "print(min_image.shape)\n",
    "min_face_encoding = face_recognition.face_encodings(min_image)[0]\n",
    "\n",
    "\n",
    "in_image = face_recognition.load_image_file(\"img/in.png\")\n",
    "print(in_image.shape)\n",
    "in_face_encoding = face_recognition.face_encodings(in_image)[0]\n",
    "\n",
    "\n",
    "wook_image = face_recognition.load_image_file(\"img/byeong2.png\")\n",
    "print(wook_image.shape)\n",
    "wook_face_encoding = face_recognition.face_encodings(wook_image)[0]\n",
    "\n",
    "# Create arrays of known face encodings and their names\n",
    "known_face_encodings = [\n",
    "    moon_face_encoding,\n",
    "    noh_face_encoding,\n",
    "    min_face_encoding,\n",
    "    in_face_encoding,\n",
    "    wook_face_encoding\n",
    "]\n",
    "\n",
    "known_face_names = [\n",
    "    \"Moon youngun\",\n",
    "    \"Noh naeun\",\n",
    "    \"Bak hyemin\",\n",
    "    \"Jo hyein\",\n",
    "    \"Moon byeongwook\"\n",
    "]\n",
    "\n",
    "# Zoom 사진 가져오기.\n",
    "unknown_image = face_recognition.load_image_file(\"img/yes.png\")\n",
    "\n",
    "face_locations = face_recognition.face_locations(unknown_image)\n",
    "face_encodings = face_recognition.face_encodings(unknown_image, face_locations)\n",
    "\n",
    "\n",
    "pil_image = Image.fromarray(unknown_image)\n",
    "draw = ImageDraw.Draw(pil_image)\n",
    "\n",
    "for (top, right, bottom, left), face_encoding in zip(face_locations, face_encodings):\n",
    "    matches = face_recognition.compare_faces(known_face_encodings, face_encoding)\n",
    "\n",
    "    name = \"Unknown\"\n",
    "\n",
    "    face_distances = face_recognition.face_distance(known_face_encodings, face_encoding)\n",
    "    best_match_index = np.argmin(face_distances)\n",
    "    if matches[best_match_index]:\n",
    "        name = known_face_names[best_match_index]\n",
    "\n",
    "    draw.rectangle(((left, top), (right, bottom)), outline=(0, 0, 255))\n",
    "\n",
    "    text_width, text_height = draw.textsize(name)\n",
    "    draw.rectangle(((left, bottom - text_height - 10), (right, bottom)), fill=(0, 0, 255), outline=(0, 0, 255))\n",
    "    draw.text((left + 6, bottom - text_height - 5), name, fill=(255, 255, 255, 255))\n",
    "\n",
    "del draw\n",
    "\n",
    "pil_image.show()\n",
    "\n",
    "# 탐지 결과를 이미지로 저장.\n",
    "pil_image.save(\"img/image_with_boxes.jpg\")"
   ]
  }
 ],
 "metadata": {
  "colab": {
   "provenance": []
  },
  "kernelspec": {
   "display_name": "Python 3 (ipykernel)",
   "language": "python",
   "name": "python3"
  },
  "language_info": {
   "codemirror_mode": {
    "name": "ipython",
    "version": 3
   },
   "file_extension": ".py",
   "mimetype": "text/x-python",
   "name": "python",
   "nbconvert_exporter": "python",
   "pygments_lexer": "ipython3",
   "version": "3.9.13"
  },
  "toc": {
   "base_numbering": 1,
   "nav_menu": {},
   "number_sections": true,
   "sideBar": true,
   "skip_h1_title": false,
   "title_cell": "Table of Contents",
   "title_sidebar": "Contents",
   "toc_cell": false,
   "toc_position": {},
   "toc_section_display": true,
   "toc_window_display": true
  }
 },
 "nbformat": 4,
 "nbformat_minor": 1
}
