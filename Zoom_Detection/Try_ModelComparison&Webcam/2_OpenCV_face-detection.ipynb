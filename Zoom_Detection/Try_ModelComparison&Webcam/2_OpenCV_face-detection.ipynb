{
 "cells": [
  {
   "cell_type": "code",
   "execution_count": 4,
   "id": "53b32811",
   "metadata": {
    "ExecuteTime": {
     "end_time": "2022-12-27T05:08:40.016315Z",
     "start_time": "2022-12-27T05:08:38.960221Z"
    }
   },
   "outputs": [],
   "source": [
    "import cv2"
   ]
  },
  {
   "cell_type": "code",
   "execution_count": 6,
   "id": "0fdae649",
   "metadata": {
    "ExecuteTime": {
     "end_time": "2022-12-27T05:12:42.648121Z",
     "start_time": "2022-12-27T05:12:42.635601Z"
    }
   },
   "outputs": [
    {
     "data": {
      "text/plain": [
       "['data\\\\archive.zip',\n",
       " 'data\\\\darknet-master',\n",
       " 'data\\\\darknet-master.zip',\n",
       " 'data\\\\haarcascade_eye.xml',\n",
       " 'data\\\\haarcascade_frontalface_alt.xml']"
      ]
     },
     "execution_count": 6,
     "metadata": {},
     "output_type": "execute_result"
    }
   ],
   "source": [
    "import glob\n",
    "paths = glob.glob(\"data/*\")\n",
    "paths[:5]"
   ]
  },
  {
   "cell_type": "code",
   "execution_count": null,
   "id": "0c97a883",
   "metadata": {
    "ExecuteTime": {
     "start_time": "2022-12-27T05:23:03.469Z"
    }
   },
   "outputs": [],
   "source": [
    "# haarcascade 불러오기\n",
    "face_cascade = cv2.CascadeClassifier('data/haarcascade_frontalface_default.xml')\n",
    "eye_cascade = cv2.CascadeClassifier('data/haarcascade_eye.xml')\n",
    "\n",
    "# 이미지 불러오기\n",
    "img = cv2.imread('img/mask_off.png')\n",
    "gray = cv2.cvtColor(img, cv2.COLOR_BGR2GRAY)\n",
    "\n",
    "# 얼굴 찾기\n",
    "faces = face_cascade.detectMultiScale(gray, 1.3, 5)\n",
    "for (x, y, w, h) in faces:\n",
    "    cv2.rectangle(img, (x, y), (x + w, y + h), (255, 0, 0), 2)\n",
    "\n",
    "    # 눈 찾기\n",
    "    roi_color = img[y:y + h, x:x + w]\n",
    "    roi_gray = gray[y:y + h, x:x + w]\n",
    "    eyes = eye_cascade.detectMultiScale(roi_gray)\n",
    "    for (ex, ey, ew, eh) in eyes:\n",
    "        cv2.rectangle(roi_color, (ex, ey), (ex+ew, ey+eh), (0, 255, 0), 2)\n",
    "\n",
    "# 영상 출력\n",
    "cv2.imshow('image', img)\n",
    "\n",
    "key = cv2.waitKey(0)\n",
    "cv2.destroyAllWindows()"
   ]
  }
 ],
 "metadata": {
  "kernelspec": {
   "display_name": "Python 3 (ipykernel)",
   "language": "python",
   "name": "python3"
  },
  "language_info": {
   "codemirror_mode": {
    "name": "ipython",
    "version": 3
   },
   "file_extension": ".py",
   "mimetype": "text/x-python",
   "name": "python",
   "nbconvert_exporter": "python",
   "pygments_lexer": "ipython3",
   "version": "3.9.13"
  },
  "toc": {
   "base_numbering": 1,
   "nav_menu": {},
   "number_sections": true,
   "sideBar": true,
   "skip_h1_title": false,
   "title_cell": "Table of Contents",
   "title_sidebar": "Contents",
   "toc_cell": false,
   "toc_position": {},
   "toc_section_display": true,
   "toc_window_display": true
  }
 },
 "nbformat": 4,
 "nbformat_minor": 5
}
