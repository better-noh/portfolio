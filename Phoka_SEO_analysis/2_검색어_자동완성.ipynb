{
 "cells": [
  {
   "cell_type": "markdown",
   "id": "ff73ae57",
   "metadata": {},
   "source": [
    "# 우리는 매일 '검색'을 한다.\n",
    "- 검색 서비스를 가지는 회사는 검색 품질이 회사의 매출을 결정할 만큼 '**검색**'은 매우 중요하다.\n",
    "- `검색어 자동완성`의 목적은 방대한 데이터 중에서 사용자가 원하는 데이터와 지식을 제공하는 데 있다.\n",
    "> - 검색은 사용자에게 주도권이, 추천은 시스템에게서 주도권이 있다. \n",
    "> - 검색과 추천 시스템은 기술적으로 보면 공통되는 부분이 많고, 독립적으로 구성되는 것이 아닌 서로 상호작용하며 동작한다. 예를 들어, 검색 결과에 소량의 추천 결과를 포함시킬 수 있고, 검색 결과가 아예 없으면 추천 결과를 대신해서 보여줄 수도 있다.\n",
    "> - https://gritmind.blog/2021/03/27/search_nlp/"
   ]
  },
  {
   "cell_type": "markdown",
   "id": "ad6e4165",
   "metadata": {},
   "source": [
    "# 검색어 자동완성이 왜 중요할까?\n",
    "- 사용자가 작성하는 검색어(쿼리)는 불완전하다.\n",
    "> - 오타가 있거나, 찾고자 하는 것에 대한 이해가 부족해서 (안다고 해도) 텍스트로 표현을 잘 못하는 경우가 많다.\n",
    "> - 그러므로 검색어(쿼리)를 보완할 필요가 있다.\n",
    "- 언어처리는 사람의 손이 많이 가는 작업이다.\n",
    "> - 최대한 자동화할 수 있는 기술이 필요하다.\n",
    "- 사용자는 인내심이 없다. \n",
    "> - 특별한 이유가 아니면 다음 검색 페이지로 잘 넘기지 않는다. 검색 품질은 생명이다.\n"
   ]
  },
  {
   "cell_type": "markdown",
   "id": "747e8dcb",
   "metadata": {},
   "source": [
    "# 검색어 자동완성 기능이란 무엇인가?\n",
    "- 단어 자동완성 기능은 `사용자가 어떤 단어를 입력하고 있을 때 그 단어의 나머지 부분이나 문장이 자동으로 제안(입력x)되는 기능`이다. (자동완성검색어 ≠ 연관검색어 ?)\n",
    "- 단어 자동완성 기능은 웹 브라우져의 URL 입력, 이메일 클라이언트의 주소 입력, 검색엔진의 질의어 추천, 소스코드 편집기의 코드추천, 스마트폰의 텍스트 입력 등에 광범위하게 사용되고 있는 기능이다.\n",
    "> - https://scienceon.kisti.re.kr/srch/selectPORSrchArticle.do?cn=JAKO201525249160709&dbt=NART\n",
    "> - https://m.blog.naver.com/PostView.naver?isHttpsRedirect=true&blogId=naver_search&logNo=221251180447\n",
    "> - https://journal.kiso.or.kr/?p=25"
   ]
  },
  {
   "cell_type": "markdown",
   "id": "f2b20c9c",
   "metadata": {},
   "source": [
    "# 구현 방법1- suggestion 라이브러리\n",
    "- suggestion 라이브러리 소개\n",
    "> - https://pypi.org/project/suggestion/\n",
    "> - https://news.knowledia.com/US/en/articles/pyrustic-suggestion-1e4b82fd87639ad7d3c0465121dc68fcd4b9f0e3\n",
    "> - https://github.com/pyrustic/suggestion\n",
    "- tkinter 기능 소개\n",
    "> - https://wikidocs.net/132610\n",
    "> - https://m.blog.naver.com/PostView.naver?isHttpsRedirect=true&blogId=infoefficien&logNo=221057243324\n",
    "> - https://076923.github.io/posts/Python-tkinter-18/\n",
    "> - https://wikidocs.net/132610\n",
    "- \n",
    "Designing Search: As-You-Type Suggestions\n",
    "> - https://uxmag.com/articles/designing-search-as-you-type-suggestions"
   ]
  },
  {
   "cell_type": "code",
   "execution_count": 75,
   "id": "6675a6f8",
   "metadata": {},
   "outputs": [],
   "source": [
    "import pandas as pd"
   ]
  },
  {
   "cell_type": "code",
   "execution_count": 76,
   "id": "6418ddf6",
   "metadata": {},
   "outputs": [
    {
     "data": {
      "text/plain": [
       "(14651450, 5)"
      ]
     },
     "execution_count": 76,
     "metadata": {},
     "output_type": "execute_result"
    }
   ],
   "source": [
    "df = pd.read_csv('../0_data/(오류삭제)클릭데이터.csv')\n",
    "df.shape"
   ]
  },
  {
   "cell_type": "code",
   "execution_count": 77,
   "id": "c4d7ab28",
   "metadata": {},
   "outputs": [
    {
     "data": {
      "text/html": [
       "<div>\n",
       "<style scoped>\n",
       "    .dataframe tbody tr th:only-of-type {\n",
       "        vertical-align: middle;\n",
       "    }\n",
       "\n",
       "    .dataframe tbody tr th {\n",
       "        vertical-align: top;\n",
       "    }\n",
       "\n",
       "    .dataframe thead th {\n",
       "        text-align: right;\n",
       "    }\n",
       "</style>\n",
       "<table border=\"1\" class=\"dataframe\">\n",
       "  <thead>\n",
       "    <tr style=\"text-align: right;\">\n",
       "      <th></th>\n",
       "      <th>id</th>\n",
       "      <th>create_date</th>\n",
       "      <th>search</th>\n",
       "      <th>photo_card_id</th>\n",
       "      <th>user_id</th>\n",
       "    </tr>\n",
       "  </thead>\n",
       "  <tbody>\n",
       "    <tr>\n",
       "      <th>0</th>\n",
       "      <td>1</td>\n",
       "      <td>2021-08-23 08:47:23.315235</td>\n",
       "      <td>NaN</td>\n",
       "      <td>12644</td>\n",
       "      <td>20918.0</td>\n",
       "    </tr>\n",
       "    <tr>\n",
       "      <th>1</th>\n",
       "      <td>2</td>\n",
       "      <td>2021-08-23 08:47:23.466387</td>\n",
       "      <td>세븐틴 우지 real</td>\n",
       "      <td>3827</td>\n",
       "      <td>NaN</td>\n",
       "    </tr>\n",
       "    <tr>\n",
       "      <th>2</th>\n",
       "      <td>3</td>\n",
       "      <td>2021-08-23 08:47:25.692937</td>\n",
       "      <td>NaN</td>\n",
       "      <td>12723</td>\n",
       "      <td>NaN</td>\n",
       "    </tr>\n",
       "    <tr>\n",
       "      <th>3</th>\n",
       "      <td>4</td>\n",
       "      <td>2021-08-23 08:47:27.725859</td>\n",
       "      <td>NaN</td>\n",
       "      <td>12981</td>\n",
       "      <td>20918.0</td>\n",
       "    </tr>\n",
       "    <tr>\n",
       "      <th>4</th>\n",
       "      <td>5</td>\n",
       "      <td>2021-08-23 08:47:31.262730</td>\n",
       "      <td>NaN</td>\n",
       "      <td>12366</td>\n",
       "      <td>16869.0</td>\n",
       "    </tr>\n",
       "  </tbody>\n",
       "</table>\n",
       "</div>"
      ],
      "text/plain": [
       "   id                 create_date       search  photo_card_id  user_id\n",
       "0   1  2021-08-23 08:47:23.315235          NaN          12644  20918.0\n",
       "1   2  2021-08-23 08:47:23.466387  세븐틴 우지 real           3827      NaN\n",
       "2   3  2021-08-23 08:47:25.692937          NaN          12723      NaN\n",
       "3   4  2021-08-23 08:47:27.725859          NaN          12981  20918.0\n",
       "4   5  2021-08-23 08:47:31.262730          NaN          12366  16869.0"
      ]
     },
     "execution_count": 77,
     "metadata": {},
     "output_type": "execute_result"
    }
   ],
   "source": [
    "df.head()"
   ]
  },
  {
   "cell_type": "code",
   "execution_count": 78,
   "id": "e13e935b",
   "metadata": {},
   "outputs": [],
   "source": [
    "df_search = df[['search']]  ## search 컬럼만 뽑기\n",
    "df_search = df_search.dropna()  ## nan 값 제거\n",
    "df_search = df_search.drop_duplicates()  ## 중복 제거\n",
    "df_search.reset_index(drop= True, inplace= True)  ## 인덱스 리셋"
   ]
  },
  {
   "cell_type": "code",
   "execution_count": 79,
   "id": "848af163",
   "metadata": {},
   "outputs": [],
   "source": [
    "# 데이터프레임을 텍스트(txt) 파일로 변환\n",
    "df_search.to_csv('search_list_2.txt', sep= '\\n', index= False, header= None, \\\n",
    "                 encoding= 'utf-8')"
   ]
  },
  {
   "cell_type": "code",
   "execution_count": null,
   "id": "401b32f9",
   "metadata": {},
   "outputs": [],
   "source": [
    "import tkinter as tk\n",
    "from suggestion import Suggestion\n",
    "\n",
    "# the dataset\n",
    "DATASET = open(\"search_list_2.txt\", 'rt', encoding= 'utf-8')\n",
    "\n",
    "# root\n",
    "root = tk.Tk()\n",
    "root.title(\"Infludeo search demo | built with Pyrustic\")\n",
    "\n",
    "# text field (it works with tk.Entry too!)\n",
    "text_field = tk.Text(root)\n",
    "text_field.pack()\n",
    "\n",
    "# Suggestion\n",
    "suggestion = Suggestion(text_field, dataset=DATASET)\n",
    "\n",
    "# lift off !\n",
    "root.mainloop()"
   ]
  },
  {
   "cell_type": "markdown",
   "id": "37323556",
   "metadata": {},
   "source": [
    "## GIF "
   ]
  },
  {
   "cell_type": "code",
   "execution_count": 25,
   "id": "b6c8b9ff",
   "metadata": {},
   "outputs": [],
   "source": [
    "import os\n",
    "from PIL import Image\n",
    "from IPython.display import Image as Img\n",
    "from IPython.display import display"
   ]
  },
  {
   "cell_type": "code",
   "execution_count": 11,
   "id": "e55bf7f9",
   "metadata": {},
   "outputs": [],
   "source": [
    "def generate_gif(path):\n",
    "    img_list = os.listdir(path)\n",
    "    img_list = [path + '/' + x for x in img_list]\n",
    "    images = [Image.open(x) for x in img_list]\n",
    "    \n",
    "    im = images[0]\n",
    "    im.save('out.gif', save_all=True, append_images=images[1:],loop=0xff, duration=500)\n",
    "    # loop 반복 횟수\n",
    "    # duration 프레임 전환 속도 (500 = 0.5초)\n",
    "    return Img(url='out.gif')"
   ]
  },
  {
   "cell_type": "code",
   "execution_count": 14,
   "id": "3370815a",
   "metadata": {},
   "outputs": [],
   "source": [
    "gif = generate_gif('../11_gif')"
   ]
  },
  {
   "cell_type": "code",
   "execution_count": 15,
   "id": "5038d651",
   "metadata": {
    "scrolled": true
   },
   "outputs": [
    {
     "data": {
      "text/html": [
       "<img src=\"out.gif\"/>"
      ],
      "text/plain": [
       "<IPython.core.display.Image object>"
      ]
     },
     "metadata": {},
     "output_type": "display_data"
    }
   ],
   "source": [
    "display(gif)"
   ]
  },
  {
   "cell_type": "markdown",
   "id": "88de6a69",
   "metadata": {},
   "source": [
    "## MP4"
   ]
  },
  {
   "cell_type": "code",
   "execution_count": 119,
   "id": "b81192f8",
   "metadata": {},
   "outputs": [
    {
     "data": {
      "text/html": [
       "<video width=\"200\" height=\"150\" controls>\n",
       "    <source src=../11_gif/suggestion_demo_v1.mp4 type=\"video/mp4\">\n",
       "    </video>"
      ],
      "text/plain": [
       "<IPython.core.display.HTML object>"
      ]
     },
     "execution_count": 119,
     "metadata": {},
     "output_type": "execute_result"
    }
   ],
   "source": [
    "def show_video_in_jupyter_nb(width, height, video_url):\n",
    "    from IPython.display import HTML\n",
    "    return HTML(\"\"\"<video width=\"{}\" height=\"{}\" controls>\n",
    "    <source src={} type=\"video/mp4\">\n",
    "    </video>\"\"\".format(width, height, video_url))\n",
    "video_url = '../11_gif/suggestion_demo_v1.mp4'\n",
    "show_video_in_jupyter_nb(200, 150,video_url)"
   ]
  },
  {
   "cell_type": "markdown",
   "id": "da07b1b7",
   "metadata": {},
   "source": [
    "## 원리\n",
    "- suggestion은 자동 완성 또는 자동 제안 기능으로 애플리케이션을 구동하는 데 필요한 라이브러리로, Pyrustic Open Ecosystem의 일부이다.\n",
    "> - Pyrustic은 동일한 정책을 공유하는 경량 Python 프로젝트 모음이다.\n",
    "> - Pyrustic은 GUI, 테마, 위젯 등 다양한 \n",
    "- 입력값과 일치하는 검색어 리스트가 출력된다.\n",
    "> 이때 검색어 리스트는 저장된 단어 순서대로 출력된다.\n",
    "\n",
    "## 한계점\n",
    "1. 한글로 쓴 검색어를 선택하면, 입력값의 마지막 글자가 반복되어 출력된다.\n",
    "2. 한글 검색어의 경우, 검색어 리스트의 출력 속도가 느리다."
   ]
  },
  {
   "cell_type": "markdown",
   "id": "d8b5834f",
   "metadata": {},
   "source": [
    "# 구현 방법2- collections 메소드"
   ]
  },
  {
   "cell_type": "code",
   "execution_count": 27,
   "id": "fee03919",
   "metadata": {},
   "outputs": [],
   "source": [
    "import pandas as pd\n",
    "import numpy as np\n",
    "import matplotlib.pyplot as plt\n",
    "import re\n",
    "import urllib.request\n",
    "import time\n",
    "import tensorflow_datasets as tfds\n",
    "import tensorflow as tf\n",
    "from os.path import join\n",
    "import os\n",
    "import re"
   ]
  },
  {
   "cell_type": "code",
   "execution_count": 28,
   "id": "ddbf81c7",
   "metadata": {},
   "outputs": [],
   "source": [
    "BASE_DIR = 'C:/Infludeo'\n",
    "data_path= join(BASE_DIR,'0_data/')"
   ]
  },
  {
   "cell_type": "code",
   "execution_count": 30,
   "id": "608eb913",
   "metadata": {},
   "outputs": [
    {
     "data": {
      "text/plain": [
       "(14651450, 5)"
      ]
     },
     "execution_count": 30,
     "metadata": {},
     "output_type": "execute_result"
    }
   ],
   "source": [
    "click_df = pd.read_csv(data_path+'(오류삭제)클릭데이터.csv')\n",
    "click_df.shape"
   ]
  },
  {
   "cell_type": "code",
   "execution_count": 31,
   "id": "79b0f1c4",
   "metadata": {},
   "outputs": [],
   "source": [
    "import warnings\n",
    "warnings.filterwarnings('ignore')\n",
    "warnings.simplefilter('ignore')"
   ]
  },
  {
   "cell_type": "code",
   "execution_count": 32,
   "id": "60496008",
   "metadata": {},
   "outputs": [],
   "source": [
    "# 데이터 준비\n",
    "def preparing_data(click_df):\n",
    "    # search 컬럼만 추출하여, 데이터 합치기\n",
    "    click_search = click_df[['search']]\n",
    "    \n",
    "    # search 컬럼에서 NaN 값 제거\n",
    "    total=click_search[~click_search['search'].isnull()]  ## 11,732,793 행\n",
    "    total.reset_index(inplace=True)\n",
    "\n",
    "    def text_cleaning(text):\n",
    "        special = re.compile(r'[^ A-Za-z0-9가-힣+]')\n",
    "        result=special.sub('', text)\n",
    "        return result\n",
    "    total['clean_search'] = total['search'].apply(lambda x: text_cleaning(x))\n",
    "    del total['search']\n",
    "    \n",
    "    # 데이터프레임을 리스트로 변환\n",
    "    words_list = total['clean_search'].values.tolist()\n",
    "    \n",
    "    return words_list  "
   ]
  },
  {
   "cell_type": "code",
   "execution_count": 34,
   "id": "4a21f5c6",
   "metadata": {},
   "outputs": [
    {
     "name": "stdout",
     "output_type": "stream",
     "text": [
      "엔시티\n",
      "search input 엔시티\n",
      "['엔시티 재현', '엔시티 지성', '엔시티 정우', '엔시티 도영', '엔시티 마크', '엔시티', '엔시티 해찬', '엔시티 제노', '엔시티 런쥔', '엔시티 재민']\n",
      "코드 실행 시간:                    0s\n",
      "코드 실행 시간: 0.2066805362701416\n"
     ]
    }
   ],
   "source": [
    "from typing import List\n",
    "from collections import Counter\n",
    "\n",
    "def my_search_filter(words_list: List[str], input_str: str) -> List[str]:\n",
    "#     print(\"word_list\", words_list)\n",
    "    print(\"search input\", input_str)\n",
    "    return list(filter(lambda text: text.replace(' ', '').lower().startswith(input_str.replace(' ', '').lower()), words_list))\n",
    "\n",
    "if __name__ == '__main__':  # 프로그램의 시작점일 때만 아래 코드 실행\n",
    "    import time  \n",
    "    temp_list = [_[0] for _ in Counter(preparing_data(click_df)).most_common()]\n",
    "    text_input = input()\n",
    "    \n",
    "    start_time = time.time()\n",
    "    \n",
    "    # 작업 코드\n",
    "    # 입력 받은 값과 첫 단어부터 일치하는 단어를 빈도수가 높은 기준으로 상위 10개만 출력\n",
    "    print(my_search_filter(temp_list, text_input)[:10])\n",
    "    \n",
    "    end_time = time.time()\n",
    "\n",
    "    print('코드 실행 시간: %20ds' % (end_time - start_time))\n",
    "    print('코드 실행 시간:', (end_time - start_time))"
   ]
  },
  {
   "cell_type": "markdown",
   "id": "4e6c9c37",
   "metadata": {},
   "source": [
    "## MP4"
   ]
  },
  {
   "cell_type": "code",
   "execution_count": 40,
   "id": "869b78c4",
   "metadata": {},
   "outputs": [
    {
     "data": {
      "text/html": [
       "<video width=\"300\" height=\"200\" controls>\n",
       "    <source src=../11_gif/PyQt5_demo_v1.mp4 type=\"video/mp4\">\n",
       "    </video>"
      ],
      "text/plain": [
       "<IPython.core.display.HTML object>"
      ]
     },
     "execution_count": 40,
     "metadata": {},
     "output_type": "execute_result"
    }
   ],
   "source": [
    "def show_video_in_jupyter_nb(width, height, video_url):\n",
    "    from IPython.display import HTML\n",
    "    return HTML(\"\"\"<video width=\"{}\" height=\"{}\" controls>\n",
    "    <source src={} type=\"video/mp4\">\n",
    "    </video>\"\"\".format(width, height, video_url))\n",
    "video_url = '../11_gif/PyQt5_demo_v1.mp4'\n",
    "show_video_in_jupyter_nb(300, 200,video_url)"
   ]
  },
  {
   "cell_type": "markdown",
   "id": "761e476e",
   "metadata": {},
   "source": [
    "## 원리\n",
    "- 기존 검색어 리스트를 빈도순으로 저장한다. 즉, 모든 단어를 빈도수 많은 순서대로 추천 단어 리스트를 생성한다.\n",
    "> - 미리 만들어진 리스트 안 단어들의 내용을 분석해 (중복 단어) 가장 빈도수가 높은 단어를 우선 표시해주는 기능이다.\n",
    "> - collections 모듈의 Counter 클래스는 컨테이너안의 데이터를 편리하고 빠르게 개수를 세도록 지원하는 계수기 도구이다. (https://docs.python.org/ko/3/library/collections.html#collections.Counter)\n",
    "> - most_common() : 데이터 개수가 많은 순으로 `정렬된 튜플 배열 리스트`를 리턴\n",
    "> - Counter() : 문자열이나, list 의 요소를 카운팅하여 데이터의 개수가 많은 순으로 딕셔너리형태로 리턴\n",
    "- 입력값과 일치하는 검색어 리스트가 출력된다.\n",
    "- 한글로 입력해도 한글 단어가 중복으로 입력되지 않는다.\n",
    "\n",
    "## 한계점\n",
    "- 오류값을 입력할 경우에는 검색어 리스트가 출력되지 않는다."
   ]
  },
  {
   "attachments": {},
   "cell_type": "markdown",
   "id": "7c71c359",
   "metadata": {},
   "source": [
    "# 구현 방법3- trie 알고리즘\n"
   ]
  },
  {
   "cell_type": "code",
   "execution_count": 66,
   "id": "31c02816",
   "metadata": {},
   "outputs": [],
   "source": [
    "from tqdm.notebook import tqdm"
   ]
  },
  {
   "cell_type": "code",
   "execution_count": 67,
   "id": "a2d4e51c",
   "metadata": {},
   "outputs": [],
   "source": [
    "class Node(object):\n",
    "    def __init__(self, key, data=None):\n",
    "        self.key = key\n",
    "        self.data = data\n",
    "        self.children = {}"
   ]
  },
  {
   "cell_type": "code",
   "execution_count": 68,
   "id": "fe037aaa",
   "metadata": {},
   "outputs": [],
   "source": [
    "class Trie:\n",
    "    def __init__(self):\n",
    "        self.head = Node(None)\n",
    "\n",
    "    def insert(self, string):\n",
    "        current_node = self.head\n",
    "\n",
    "        for char in string:\n",
    "            if char not in current_node.children:\n",
    "                current_node.children[char] = Node(char)\n",
    "            current_node = current_node.children[char]\n",
    "        current_node.data = string\n",
    "\n",
    "    def search(self, string):\n",
    "        current_node = self.head\n",
    "\n",
    "        for char in string:\n",
    "            if char in current_node.children:\n",
    "                current_node = current_node.children[char]\n",
    "            else:\n",
    "                return False\n",
    "\n",
    "        if current_node.data:\n",
    "            return True\n",
    "        else:\n",
    "            return False\n",
    "\n",
    "    def starts_with(self, prefix):\n",
    "        current_node = self.head\n",
    "        words = []\n",
    "\n",
    "        for p in prefix:\n",
    "            if p in current_node.children:\n",
    "                current_node = current_node.children[p]\n",
    "            else:\n",
    "                return None\n",
    "\n",
    "        current_node = [current_node]\n",
    "        next_node = []\n",
    "        while True:\n",
    "            for node in current_node:\n",
    "                if node.data:\n",
    "                    words.append(node.data)\n",
    "                next_node.extend(list(node.children.values()))\n",
    "            if len(next_node) != 0:\n",
    "                current_node = next_node\n",
    "                next_node = []\n",
    "            else:\n",
    "                break\n",
    "\n",
    "        return words"
   ]
  },
  {
   "cell_type": "code",
   "execution_count": 45,
   "id": "fea91830",
   "metadata": {},
   "outputs": [
    {
     "data": {
      "application/vnd.jupyter.widget-view+json": {
       "model_id": "a203f6aa69384991b8bcb61650f5d780",
       "version_major": 2,
       "version_minor": 0
      },
      "text/plain": [
       "  0%|          | 0/11732793 [00:00<?, ?it/s]"
      ]
     },
     "metadata": {},
     "output_type": "display_data"
    }
   ],
   "source": [
    "trie = Trie()\n",
    "\n",
    "for word in tqdm(preparing_data(df)):  ## 클릭 데이터 이용\n",
    "    trie.insert(word)"
   ]
  },
  {
   "cell_type": "code",
   "execution_count": 109,
   "id": "29d72b2d",
   "metadata": {},
   "outputs": [
    {
     "name": "stdout",
     "output_type": "stream",
     "text": [
      "['nct', 'nct ', 'nct 제', 'nct 쿤', 'nct 쇼', 'nct 맛', 'nct 붐', 'nct 유', 'nct 텐', 'nct  ']\n",
      "코드 실행 시간: 0.05998682975769043\n"
     ]
    }
   ],
   "source": [
    "start_time = time.time()\n",
    "\n",
    "print(trie.starts_with(\"nct\")[:10])\n",
    "\n",
    "end_time = time.time()\n",
    "\n",
    "print('코드 실행 시간:', (end_time - start_time))"
   ]
  },
  {
   "cell_type": "code",
   "execution_count": 110,
   "id": "d1c4175f",
   "metadata": {},
   "outputs": [
    {
     "name": "stdout",
     "output_type": "stream",
     "text": [
      "['NCT', 'NCT ', 'NCTU', 'NCT 제', 'NCT 정', 'NCT 윈', 'NCT 마', 'NCT 런', 'NCT 태', 'NCT 재']\n",
      "코드 실행 시간: 0.2771134376525879\n"
     ]
    }
   ],
   "source": [
    "start_time = time.time()\n",
    "\n",
    "print(trie.starts_with(\"NCT\")[:10])\n",
    "\n",
    "end_time = time.time()\n",
    "\n",
    "print('코드 실행 시간:', (end_time - start_time))"
   ]
  },
  {
   "cell_type": "code",
   "execution_count": 111,
   "id": "4df6929e",
   "metadata": {},
   "outputs": [
    {
     "name": "stdout",
     "output_type": "stream",
     "text": [
      "['스테이', '스테이씨', '스테이지', '스테이씨윤', '스테이 윤', '스테이 한', '스테이씨 수', '스테이씨 윤', '스테이씨 재', '스테이씨 세']\n",
      "코드 실행 시간: 0.005080461502075195\n"
     ]
    }
   ],
   "source": [
    "start_time = time.time()\n",
    "\n",
    "print(trie.starts_with(\"스테이\")[:10])\n",
    "\n",
    "end_time = time.time()\n",
    "\n",
    "print('코드 실행 시간:', (end_time - start_time))"
   ]
  },
  {
   "cell_type": "markdown",
   "id": "822dc5e2",
   "metadata": {},
   "source": [
    "## MP4"
   ]
  },
  {
   "cell_type": "code",
   "execution_count": 74,
   "id": "0cd2bfb3",
   "metadata": {},
   "outputs": [
    {
     "data": {
      "text/html": [
       "<video width=\"300\" height=\"200\" controls>\n",
       "    <source src=../11_gif/Trie_demo_v1.mp4 type=\"video/mp4\">\n",
       "    </video>"
      ],
      "text/plain": [
       "<IPython.core.display.HTML object>"
      ]
     },
     "execution_count": 74,
     "metadata": {},
     "output_type": "execute_result"
    }
   ],
   "source": [
    "def show_video_in_jupyter_nb(width, height, video_url):\n",
    "    from IPython.display import HTML\n",
    "    return HTML(\"\"\"<video width=\"{}\" height=\"{}\" controls>\n",
    "    <source src={} type=\"video/mp4\">\n",
    "    </video>\"\"\".format(width, height, video_url))\n",
    "video_url = '../11_gif/Trie_demo_v1.mp4'\n",
    "show_video_in_jupyter_nb(300, 200,video_url)"
   ]
  },
  {
   "cell_type": "markdown",
   "id": "24e3ab2e",
   "metadata": {},
   "source": [
    "## 원리\n",
    "- Trie(트라이)의 아이디어는 낱말을 하나 하나 글자로 쪼개어 트리로 저장한다.\n",
    "> - 이때 저장되는 문자열형 데이터의 대소관계는 사전식 순서에 의해 결정된다.\n",
    "> - 즉, `알파벳 → 한글` 순이며 한글은 `자음 → 모음` 순\n",
    "- 트라이 자료구조에 기반한 시스템은 먼저 어휘사전에 있는 모든 어휘로 구성된 탐색트리를 만든다. 그런 후에 사용자의 키입력으로부터 생성 가능한 모든 어휘를 빠르게 탐색하고 어휘 가중치에 따라 추천 단어열을 만들어 낸다. 트라이 자료구조는 탐색알고리즘의 복잡도가 낮고, 트리를 만드는 데 걸리는 시간이 짧은 특성이 있다.\n",
    "\n",
    "## 한계점\n",
    "- 리스트에 없는 단어는 출력되지 않는다."
   ]
  },
  {
   "cell_type": "markdown",
   "id": "e7ea532e",
   "metadata": {},
   "source": [
    "# 개선할 점\n",
    "1. `오타가 나도` 결과가 나올 수 있도록, `초성만 입력해도` 원하는 키워드를 찾을 수 있도록, `영어로 입력해도` 자동완성 검색을 구현할 수 있도록\n",
    "> - **검색엔진을 고도화**하고 싶다.\\\n",
    "> 예를 들어, `엘라스틱 서치(Elasticsearch)`를 통해 다양한 유형의 검색을 수행하고 결합할 수 있도록 구현해보고 싶다.\n",
    "\n",
    "2. 검색어와 함께 `사용자 분석, 추천 서비스를 결합`하여 \n",
    "> - **사용자 경험을 높이고** 싶다.\\\n",
    "> 예를 들어 검색 사용자의 행동로그를 구축하여 `유사 검색어`로도 정확한 검색이 가능한 수준의 검색엔진을 구현해보고 싶다.\n",
    "\n",
    "3. 시간의 경과에 따른 검색어 자동완성 리스트, 즉 `인기 검색어`를 구현해보고 싶다.\n",
    "> https://ko.martech.zone/python-script-google-autosuggest-trends-export-csv/\n",
    "\n",
    "- 사용자 행동 패턴, 히스토리 정보 등을 모델링하고, 단순한 검색을 넘어 의사결정(decision-making)이 가능한 똑똑한 검색 시스템을 구현하고 싶다.\n",
    "- 참고: https://fastcampus.co.kr/data_red_jhw/?utm_source=google&utm_medium=cpc&utm_campaign=hq%5E210907%5E204824&utm_content=%EC%B6%94%EC%B2%9C%EC%8B%9C%EC%8A%A4%ED%85%9C&utm_term=&gclid=CjwKCAjwjZmTBhB4EiwAynRmD0I_vpcK80faRpaFul8IeAZ0-mqC1tKY-0d-qOs_FaAFRk-BoiMTXBoCPIEQAvD_BwE"
   ]
  }
 ],
 "metadata": {
  "kernelspec": {
   "display_name": "Python 3 (ipykernel)",
   "language": "python",
   "name": "python3"
  },
  "language_info": {
   "codemirror_mode": {
    "name": "ipython",
    "version": 3
   },
   "file_extension": ".py",
   "mimetype": "text/x-python",
   "name": "python",
   "nbconvert_exporter": "python",
   "pygments_lexer": "ipython3",
   "version": "3.9.13"
  },
  "toc": {
   "base_numbering": 1,
   "nav_menu": {},
   "number_sections": true,
   "sideBar": true,
   "skip_h1_title": false,
   "title_cell": "Table of Contents",
   "title_sidebar": "Contents",
   "toc_cell": false,
   "toc_position": {
    "height": "calc(100% - 180px)",
    "left": "10px",
    "top": "150px",
    "width": "212.882px"
   },
   "toc_section_display": true,
   "toc_window_display": true
  }
 },
 "nbformat": 4,
 "nbformat_minor": 5
}
